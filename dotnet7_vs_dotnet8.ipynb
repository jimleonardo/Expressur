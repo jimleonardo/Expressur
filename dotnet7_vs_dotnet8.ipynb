{
 "cells": [
  {
   "cell_type": "markdown",
   "metadata": {},
   "source": [
    "# Is dotnet 8 faster than dotnet 7?\n",
    "\n",
    "`Expressur.LoadTest` is a simple executable that runs a very simple load test for Expressur. It does as many iterations as it can in five minutes of the following three expressions:\n",
    "\n",
    "~~~csharp\n",
    "        var expressions = new Dictionary<string, string> {\n",
    "            { \"cplusaplusb\", \"c + aplusb\" },\n",
    "            { \"aplusb\", \"a + b\" },\n",
    "            { \"extraindirection\", \"(aplusb/ cplusaplusb)\" }\n",
    "        };\n",
    "~~~\n",
    "\n",
    "It uses these values as initial seed values\n",
    "\n",
    "~~~csharp\n",
    "        var context = new Dictionary<string, decimal?> {\n",
    "            { \"a\", 1m },\n",
    "            { \"b\", 2m },\n",
    "            { \"c\", 4m }\n",
    "        };\n",
    "~~~\n",
    "\n",
    "\"As many iterations as it can\" is somewhat qualified. To both simplify the code and prevent the load test code from adding too much overhead that would skew the results, it runs in batches of 1 million. After every million batches, it checks if the total run time is greater than 5 minutes. If so, it ends. i.e.:\n",
    "\n",
    "~~~csharp\n",
    "    while (time < 5 minutes>){\n",
    "        run 1 million batches\n",
    "    }   \n",
    "~~~\n",
    "\n",
    "As a result, the run time will always be slightly greater than 5 minutes except in that rare case when the last batch was completed at exactly 5 minutes.\n",
    "\n",
    "Running the same code built for dotnet 7 and 8, we saw these results:"
   ]
  },
  {
   "cell_type": "code",
   "execution_count": 17,
   "metadata": {
    "tags": [
     "TestResults"
    ]
   },
   "outputs": [
    {
     "name": "stdout",
     "output_type": "stream",
     "text": [
      "Test results:\n"
     ]
    },
    {
     "data": {
      "text/html": [
       "<div>\n",
       "<style scoped>\n",
       "    .dataframe tbody tr th:only-of-type {\n",
       "        vertical-align: middle;\n",
       "    }\n",
       "\n",
       "    .dataframe tbody tr th {\n",
       "        vertical-align: top;\n",
       "    }\n",
       "\n",
       "    .dataframe thead th {\n",
       "        text-align: right;\n",
       "    }\n",
       "</style>\n",
       "<table border=\"1\" class=\"dataframe\">\n",
       "  <thead>\n",
       "    <tr style=\"text-align: right;\">\n",
       "      <th></th>\n",
       "      <th>dotnet7</th>\n",
       "      <th>dotnet8</th>\n",
       "    </tr>\n",
       "  </thead>\n",
       "  <tbody>\n",
       "    <tr>\n",
       "      <th>iterations</th>\n",
       "      <td>69000000</td>\n",
       "      <td>79000000</td>\n",
       "    </tr>\n",
       "    <tr>\n",
       "      <th>total_time</th>\n",
       "      <td>0:05:04.702880</td>\n",
       "      <td>0:05:00.267134</td>\n",
       "    </tr>\n",
       "    <tr>\n",
       "      <th>time_per_million_iterations</th>\n",
       "      <td>0:00:04.415984</td>\n",
       "      <td>0:00:03.800850</td>\n",
       "    </tr>\n",
       "  </tbody>\n",
       "</table>\n",
       "</div>"
      ],
      "text/plain": [
       "                                    dotnet7         dotnet8\n",
       "iterations                         69000000        79000000\n",
       "total_time                   0:05:04.702880  0:05:00.267134\n",
       "time_per_million_iterations  0:00:04.415984  0:00:03.800850"
      ]
     },
     "metadata": {},
     "output_type": "display_data"
    },
    {
     "name": "stdout",
     "output_type": "stream",
     "text": [
      "Improvement: 13.93%\n"
     ]
    }
   ],
   "source": [
    "from datetime import timedelta\n",
    "from pandas import DataFrame\n",
    "\n",
    "net7 = {\"iterations\":69_000_000, \"total_time\": timedelta(minutes=5, seconds=4.7028801)}\n",
    "net8 = {\"iterations\":79_000_000, \"total_time\": timedelta(minutes=5, seconds=00.2671345)}\n",
    "\n",
    "testresults = {\"dotnet7\": net7, \"dotnet8\": net8}\n",
    "\n",
    "\n",
    "net7[\"time_per_million_iterations\"] = net7[\"total_time\"] / (net7[\"iterations\"] / 1_000_000)\n",
    "net8[\"time_per_million_iterations\"] = net8[\"total_time\"] / (net8[\"iterations\"] / 1_000_000)\n",
    "\n",
    "# display testresults as table\n",
    "print(\"Test results:\")\n",
    "\n",
    "df = DataFrame(testresults)\n",
    "\n",
    "improvement = 1 - (net8['time_per_million_iterations']/ net7['time_per_million_iterations'])\n",
    "\n",
    "display(df)\n",
    "\n",
    "# round improvement to 2 decimal places \n",
    "improvement = round(improvement * 100, 2)\n",
    "\n",
    "print(f\"Improvement: {improvement}%\")\n"
   ]
  },
  {
   "cell_type": "markdown",
   "metadata": {},
   "source": [
    "An almost **14% improvement** is impressive when no code in Expressur changed at all."
   ]
  }
 ],
 "metadata": {
  "kernelspec": {
   "display_name": "Python 3",
   "language": "python",
   "name": "python3"
  },
  "language_info": {
   "codemirror_mode": {
    "name": "ipython",
    "version": 3
   },
   "file_extension": ".py",
   "mimetype": "text/x-python",
   "name": "python",
   "nbconvert_exporter": "python",
   "pygments_lexer": "ipython3",
   "version": "3.11.6"
  }
 },
 "nbformat": 4,
 "nbformat_minor": 2
}
